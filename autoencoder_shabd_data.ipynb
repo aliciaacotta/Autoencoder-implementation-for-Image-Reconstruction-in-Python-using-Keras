{
 "cells": [
  {
   "cell_type": "markdown",
   "metadata": {
    "id": "Sk6MnGtWeen4"
   },
   "source": [
    "Encoding and decoding using deep autoencoder (Shabd dataset - Kaggle)"
   ]
  },
  {
   "cell_type": "markdown",
   "metadata": {
    "id": "6k8m0CPRgj8S"
   },
   "source": [
    "single fully-connected neural layer as encoder and as decoder.\n",
    "\n",
    "Create a deep autoencoder where the input image has a dimension of 1024. \n",
    "Encode it to a dimension of 128 and then to 64 and then to 32. \n",
    "Decode the 32 dimension image to 64 and then to 128 and finally reconstruct back to original dimension of 1024."
   ]
  },
  {
   "cell_type": "code",
   "execution_count": 1,
   "metadata": {
    "id": "Gtctvx_Pgj8T"
   },
   "outputs": [],
   "source": [
    "from keras.layers import Input ,Dense\n",
    "from keras.models import Model\n",
    "import numpy as np\n",
    "import pandas as pd\n",
    "import matplotlib.pyplot as plt\n",
    "%matplotlib inline"
   ]
  },
  {
   "cell_type": "markdown",
   "metadata": {
    "id": "tppO7qcVgj8U"
   },
   "source": [
    "Loading the shabd dataset images. We want to reconstruct the images as output of the autoencoder.\n",
    "Normalize all values between 0 and 1 and we will flatten the 32x32 images into vectors of size 1024."
   ]
  },
  {
   "cell_type": "code",
   "execution_count": 2,
   "metadata": {
    "colab": {
     "base_uri": "https://localhost:8080/"
    },
    "id": "75KQMhB7gj8U",
    "outputId": "3c80ebca-036e-4d01-f8ff-7cd25ef75724"
   },
   "outputs": [
    {
     "name": "stdout",
     "output_type": "stream",
     "text": [
      "Train Data Shape:  (243456, 1026)\n",
      "Test Data Shape:  (60672, 1026)\n"
     ]
    }
   ],
   "source": [
    "trainData= pd.read_csv(\"train(grayscale).csv\")\n",
    "testData= pd.read_csv(\"test(grayscale).csv\")\n",
    "\n",
    "print(\"Train Data Shape: \",trainData.shape)\n",
    "print(\"Test Data Shape: \",testData.shape)"
   ]
  },
  {
   "cell_type": "code",
   "execution_count": 3,
   "metadata": {
    "colab": {
     "base_uri": "https://localhost:8080/",
     "height": 299
    },
    "id": "FZv6lFfiibqT",
    "outputId": "533d5634-967d-44f3-ff7e-0852ac96189d"
   },
   "outputs": [
    {
     "data": {
      "text/html": [
       "<div>\n",
       "<style scoped>\n",
       "    .dataframe tbody tr th:only-of-type {\n",
       "        vertical-align: middle;\n",
       "    }\n",
       "\n",
       "    .dataframe tbody tr th {\n",
       "        vertical-align: top;\n",
       "    }\n",
       "\n",
       "    .dataframe thead th {\n",
       "        text-align: right;\n",
       "    }\n",
       "</style>\n",
       "<table border=\"1\" class=\"dataframe\">\n",
       "  <thead>\n",
       "    <tr style=\"text-align: right;\">\n",
       "      <th></th>\n",
       "      <th>Index</th>\n",
       "      <th>label</th>\n",
       "      <th>f_1</th>\n",
       "      <th>f_2</th>\n",
       "      <th>f_3</th>\n",
       "      <th>f_4</th>\n",
       "      <th>f_5</th>\n",
       "      <th>f_6</th>\n",
       "      <th>f_7</th>\n",
       "      <th>f_8</th>\n",
       "      <th>...</th>\n",
       "      <th>f_1015</th>\n",
       "      <th>f_1016</th>\n",
       "      <th>f_1017</th>\n",
       "      <th>f_1018</th>\n",
       "      <th>f_1019</th>\n",
       "      <th>f_1020</th>\n",
       "      <th>f_1021</th>\n",
       "      <th>f_1022</th>\n",
       "      <th>f_1023</th>\n",
       "      <th>f_1024</th>\n",
       "    </tr>\n",
       "  </thead>\n",
       "  <tbody>\n",
       "    <tr>\n",
       "      <th>0</th>\n",
       "      <td>83</td>\n",
       "      <td>अ</td>\n",
       "      <td>255</td>\n",
       "      <td>255</td>\n",
       "      <td>255</td>\n",
       "      <td>255</td>\n",
       "      <td>255</td>\n",
       "      <td>255</td>\n",
       "      <td>255</td>\n",
       "      <td>255</td>\n",
       "      <td>...</td>\n",
       "      <td>255</td>\n",
       "      <td>255</td>\n",
       "      <td>255</td>\n",
       "      <td>255</td>\n",
       "      <td>255</td>\n",
       "      <td>255</td>\n",
       "      <td>255</td>\n",
       "      <td>255</td>\n",
       "      <td>255</td>\n",
       "      <td>255</td>\n",
       "    </tr>\n",
       "    <tr>\n",
       "      <th>1</th>\n",
       "      <td>620</td>\n",
       "      <td>अ</td>\n",
       "      <td>255</td>\n",
       "      <td>255</td>\n",
       "      <td>255</td>\n",
       "      <td>255</td>\n",
       "      <td>255</td>\n",
       "      <td>255</td>\n",
       "      <td>255</td>\n",
       "      <td>255</td>\n",
       "      <td>...</td>\n",
       "      <td>255</td>\n",
       "      <td>255</td>\n",
       "      <td>255</td>\n",
       "      <td>255</td>\n",
       "      <td>255</td>\n",
       "      <td>255</td>\n",
       "      <td>255</td>\n",
       "      <td>255</td>\n",
       "      <td>255</td>\n",
       "      <td>255</td>\n",
       "    </tr>\n",
       "    <tr>\n",
       "      <th>2</th>\n",
       "      <td>508</td>\n",
       "      <td>अ</td>\n",
       "      <td>255</td>\n",
       "      <td>255</td>\n",
       "      <td>255</td>\n",
       "      <td>255</td>\n",
       "      <td>255</td>\n",
       "      <td>255</td>\n",
       "      <td>255</td>\n",
       "      <td>255</td>\n",
       "      <td>...</td>\n",
       "      <td>255</td>\n",
       "      <td>255</td>\n",
       "      <td>255</td>\n",
       "      <td>255</td>\n",
       "      <td>255</td>\n",
       "      <td>255</td>\n",
       "      <td>255</td>\n",
       "      <td>255</td>\n",
       "      <td>255</td>\n",
       "      <td>255</td>\n",
       "    </tr>\n",
       "    <tr>\n",
       "      <th>3</th>\n",
       "      <td>497</td>\n",
       "      <td>अ</td>\n",
       "      <td>255</td>\n",
       "      <td>255</td>\n",
       "      <td>255</td>\n",
       "      <td>255</td>\n",
       "      <td>255</td>\n",
       "      <td>255</td>\n",
       "      <td>255</td>\n",
       "      <td>255</td>\n",
       "      <td>...</td>\n",
       "      <td>255</td>\n",
       "      <td>255</td>\n",
       "      <td>255</td>\n",
       "      <td>255</td>\n",
       "      <td>255</td>\n",
       "      <td>255</td>\n",
       "      <td>255</td>\n",
       "      <td>255</td>\n",
       "      <td>255</td>\n",
       "      <td>255</td>\n",
       "    </tr>\n",
       "    <tr>\n",
       "      <th>4</th>\n",
       "      <td>679</td>\n",
       "      <td>अ</td>\n",
       "      <td>255</td>\n",
       "      <td>255</td>\n",
       "      <td>255</td>\n",
       "      <td>255</td>\n",
       "      <td>255</td>\n",
       "      <td>255</td>\n",
       "      <td>255</td>\n",
       "      <td>255</td>\n",
       "      <td>...</td>\n",
       "      <td>255</td>\n",
       "      <td>255</td>\n",
       "      <td>255</td>\n",
       "      <td>255</td>\n",
       "      <td>255</td>\n",
       "      <td>255</td>\n",
       "      <td>255</td>\n",
       "      <td>255</td>\n",
       "      <td>255</td>\n",
       "      <td>255</td>\n",
       "    </tr>\n",
       "  </tbody>\n",
       "</table>\n",
       "<p>5 rows × 1026 columns</p>\n",
       "</div>"
      ],
      "text/plain": [
       "   Index label  f_1  f_2  f_3  f_4  f_5  f_6  f_7  f_8  ...  f_1015  f_1016  \\\n",
       "0     83     अ  255  255  255  255  255  255  255  255  ...     255     255   \n",
       "1    620     अ  255  255  255  255  255  255  255  255  ...     255     255   \n",
       "2    508     अ  255  255  255  255  255  255  255  255  ...     255     255   \n",
       "3    497     अ  255  255  255  255  255  255  255  255  ...     255     255   \n",
       "4    679     अ  255  255  255  255  255  255  255  255  ...     255     255   \n",
       "\n",
       "   f_1017  f_1018  f_1019  f_1020  f_1021  f_1022  f_1023  f_1024  \n",
       "0     255     255     255     255     255     255     255     255  \n",
       "1     255     255     255     255     255     255     255     255  \n",
       "2     255     255     255     255     255     255     255     255  \n",
       "3     255     255     255     255     255     255     255     255  \n",
       "4     255     255     255     255     255     255     255     255  \n",
       "\n",
       "[5 rows x 1026 columns]"
      ]
     },
     "execution_count": 3,
     "metadata": {},
     "output_type": "execute_result"
    }
   ],
   "source": [
    "trainData.head()"
   ]
  },
  {
   "cell_type": "code",
   "execution_count": 4,
   "metadata": {
    "colab": {
     "base_uri": "https://localhost:8080/",
     "height": 299
    },
    "id": "GZvMottHid0S",
    "outputId": "1011d7ec-621d-4f94-a985-88a58999b182"
   },
   "outputs": [
    {
     "data": {
      "text/html": [
       "<div>\n",
       "<style scoped>\n",
       "    .dataframe tbody tr th:only-of-type {\n",
       "        vertical-align: middle;\n",
       "    }\n",
       "\n",
       "    .dataframe tbody tr th {\n",
       "        vertical-align: top;\n",
       "    }\n",
       "\n",
       "    .dataframe thead th {\n",
       "        text-align: right;\n",
       "    }\n",
       "</style>\n",
       "<table border=\"1\" class=\"dataframe\">\n",
       "  <thead>\n",
       "    <tr style=\"text-align: right;\">\n",
       "      <th></th>\n",
       "      <th>Index</th>\n",
       "      <th>label</th>\n",
       "      <th>f_1</th>\n",
       "      <th>f_2</th>\n",
       "      <th>f_3</th>\n",
       "      <th>f_4</th>\n",
       "      <th>f_5</th>\n",
       "      <th>f_6</th>\n",
       "      <th>f_7</th>\n",
       "      <th>f_8</th>\n",
       "      <th>...</th>\n",
       "      <th>f_1015</th>\n",
       "      <th>f_1016</th>\n",
       "      <th>f_1017</th>\n",
       "      <th>f_1018</th>\n",
       "      <th>f_1019</th>\n",
       "      <th>f_1020</th>\n",
       "      <th>f_1021</th>\n",
       "      <th>f_1022</th>\n",
       "      <th>f_1023</th>\n",
       "      <th>f_1024</th>\n",
       "    </tr>\n",
       "  </thead>\n",
       "  <tbody>\n",
       "    <tr>\n",
       "      <th>0</th>\n",
       "      <td>12</td>\n",
       "      <td>अ</td>\n",
       "      <td>255</td>\n",
       "      <td>255</td>\n",
       "      <td>255</td>\n",
       "      <td>255</td>\n",
       "      <td>255</td>\n",
       "      <td>255</td>\n",
       "      <td>255</td>\n",
       "      <td>255</td>\n",
       "      <td>...</td>\n",
       "      <td>255</td>\n",
       "      <td>255</td>\n",
       "      <td>255</td>\n",
       "      <td>255</td>\n",
       "      <td>255</td>\n",
       "      <td>255</td>\n",
       "      <td>255</td>\n",
       "      <td>255</td>\n",
       "      <td>255</td>\n",
       "      <td>255</td>\n",
       "    </tr>\n",
       "    <tr>\n",
       "      <th>1</th>\n",
       "      <td>27</td>\n",
       "      <td>अ</td>\n",
       "      <td>255</td>\n",
       "      <td>255</td>\n",
       "      <td>255</td>\n",
       "      <td>255</td>\n",
       "      <td>255</td>\n",
       "      <td>255</td>\n",
       "      <td>255</td>\n",
       "      <td>255</td>\n",
       "      <td>...</td>\n",
       "      <td>255</td>\n",
       "      <td>255</td>\n",
       "      <td>255</td>\n",
       "      <td>255</td>\n",
       "      <td>255</td>\n",
       "      <td>255</td>\n",
       "      <td>255</td>\n",
       "      <td>255</td>\n",
       "      <td>255</td>\n",
       "      <td>255</td>\n",
       "    </tr>\n",
       "    <tr>\n",
       "      <th>2</th>\n",
       "      <td>30</td>\n",
       "      <td>अ</td>\n",
       "      <td>255</td>\n",
       "      <td>255</td>\n",
       "      <td>255</td>\n",
       "      <td>255</td>\n",
       "      <td>255</td>\n",
       "      <td>255</td>\n",
       "      <td>255</td>\n",
       "      <td>255</td>\n",
       "      <td>...</td>\n",
       "      <td>255</td>\n",
       "      <td>255</td>\n",
       "      <td>255</td>\n",
       "      <td>255</td>\n",
       "      <td>255</td>\n",
       "      <td>255</td>\n",
       "      <td>255</td>\n",
       "      <td>255</td>\n",
       "      <td>255</td>\n",
       "      <td>255</td>\n",
       "    </tr>\n",
       "    <tr>\n",
       "      <th>3</th>\n",
       "      <td>33</td>\n",
       "      <td>अ</td>\n",
       "      <td>255</td>\n",
       "      <td>255</td>\n",
       "      <td>255</td>\n",
       "      <td>255</td>\n",
       "      <td>255</td>\n",
       "      <td>255</td>\n",
       "      <td>255</td>\n",
       "      <td>255</td>\n",
       "      <td>...</td>\n",
       "      <td>255</td>\n",
       "      <td>255</td>\n",
       "      <td>255</td>\n",
       "      <td>255</td>\n",
       "      <td>255</td>\n",
       "      <td>255</td>\n",
       "      <td>255</td>\n",
       "      <td>255</td>\n",
       "      <td>255</td>\n",
       "      <td>255</td>\n",
       "    </tr>\n",
       "    <tr>\n",
       "      <th>4</th>\n",
       "      <td>36</td>\n",
       "      <td>अ</td>\n",
       "      <td>255</td>\n",
       "      <td>255</td>\n",
       "      <td>255</td>\n",
       "      <td>255</td>\n",
       "      <td>255</td>\n",
       "      <td>255</td>\n",
       "      <td>255</td>\n",
       "      <td>255</td>\n",
       "      <td>...</td>\n",
       "      <td>255</td>\n",
       "      <td>255</td>\n",
       "      <td>255</td>\n",
       "      <td>255</td>\n",
       "      <td>255</td>\n",
       "      <td>255</td>\n",
       "      <td>255</td>\n",
       "      <td>255</td>\n",
       "      <td>255</td>\n",
       "      <td>255</td>\n",
       "    </tr>\n",
       "  </tbody>\n",
       "</table>\n",
       "<p>5 rows × 1026 columns</p>\n",
       "</div>"
      ],
      "text/plain": [
       "   Index label  f_1  f_2  f_3  f_4  f_5  f_6  f_7  f_8  ...  f_1015  f_1016  \\\n",
       "0     12     अ  255  255  255  255  255  255  255  255  ...     255     255   \n",
       "1     27     अ  255  255  255  255  255  255  255  255  ...     255     255   \n",
       "2     30     अ  255  255  255  255  255  255  255  255  ...     255     255   \n",
       "3     33     अ  255  255  255  255  255  255  255  255  ...     255     255   \n",
       "4     36     अ  255  255  255  255  255  255  255  255  ...     255     255   \n",
       "\n",
       "   f_1017  f_1018  f_1019  f_1020  f_1021  f_1022  f_1023  f_1024  \n",
       "0     255     255     255     255     255     255     255     255  \n",
       "1     255     255     255     255     255     255     255     255  \n",
       "2     255     255     255     255     255     255     255     255  \n",
       "3     255     255     255     255     255     255     255     255  \n",
       "4     255     255     255     255     255     255     255     255  \n",
       "\n",
       "[5 rows x 1026 columns]"
      ]
     },
     "execution_count": 4,
     "metadata": {},
     "output_type": "execute_result"
    }
   ],
   "source": [
    "testData.head()"
   ]
  },
  {
   "cell_type": "code",
   "execution_count": 5,
   "metadata": {},
   "outputs": [
    {
     "name": "stdout",
     "output_type": "stream",
     "text": [
      "(243456, 1024)\n",
      "(60672, 1024)\n"
     ]
    }
   ],
   "source": [
    "Y_train=trainData[\"label\"]\n",
    "X_train=trainData.drop(labels=[\"label\",\"Index\"],axis=1)\n",
    "\n",
    "print(X_train.shape)\n",
    "\n",
    "Y_test=testData[\"label\"]\n",
    "X_test=testData.drop(labels=[\"label\",\"Index\"],axis=1)\n",
    "\n",
    "print(X_test.shape)"
   ]
  },
  {
   "cell_type": "markdown",
   "metadata": {
    "id": "tppO7qcVgj8U"
   },
   "source": [
    "Normalize all values between 0 and 1 and we will flatten the 32x32 images into vectors of size 1024."
   ]
  },
  {
   "cell_type": "code",
   "execution_count": 6,
   "metadata": {
    "id": "KPuhP7kP6Xux"
   },
   "outputs": [],
   "source": [
    "X_train=X_train/255.0\n",
    "X_test=X_test/255.0"
   ]
  },
  {
   "cell_type": "code",
   "execution_count": 7,
   "metadata": {
    "colab": {
     "base_uri": "https://localhost:8080/"
    },
    "id": "vQZaspvByck2",
    "outputId": "43529501-8ef7-4b2d-8407-f5e4741b80b4"
   },
   "outputs": [
    {
     "name": "stdout",
     "output_type": "stream",
     "text": [
      "(243456, 1024)\n",
      "(60672, 1024)\n"
     ]
    }
   ],
   "source": [
    "X_train=X_train.values.reshape(len(X_train),np.prod(X_train.shape[1:]))\n",
    "X_test=X_test.values.reshape(len(X_test), np.prod(X_test.shape[1:]))\n",
    "print(X_train.shape)\n",
    "print(X_test.shape)"
   ]
  },
  {
   "cell_type": "markdown",
   "metadata": {
    "id": "JEZ93sF5gj8V"
   },
   "source": [
    "Convert the input image of dimensions 1024 to keras tensors"
   ]
  },
  {
   "cell_type": "code",
   "execution_count": 8,
   "metadata": {
    "colab": {
     "base_uri": "https://localhost:8080/"
    },
    "id": "3bXjZOE1gj8V",
    "outputId": "e6f30c3d-56ad-433f-b1fb-e1de2097f707"
   },
   "outputs": [
    {
     "data": {
      "text/plain": [
       "<KerasTensor: shape=(None, 1024) dtype=float32 (created by layer 'input_1')>"
      ]
     },
     "execution_count": 8,
     "metadata": {},
     "output_type": "execute_result"
    }
   ],
   "source": [
    "input_img= Input(shape=(1024,))\n",
    "input_img"
   ]
  },
  {
   "cell_type": "markdown",
   "metadata": {
    "id": "vtRxQw6ggj8V"
   },
   "source": [
    "To build the autoencoder we will have to first encode the input image and add different encoded and decoded layer to build the deep autoencoder as shown below. The output layer needs to predict the probability of an output which needs to either 0 or 1 and hence we use sigmoid function.\n",
    "For all the hidden layers for the encoder and decoder we use relu activation function for non-linearity.\n"
   ]
  },
  {
   "cell_type": "code",
   "execution_count": 9,
   "metadata": {
    "id": "Vtrpdbdsgj8V"
   },
   "outputs": [],
   "source": [
    "encoding_dim=32\n",
    "# \"encoded\" is the encoded representation of the input\n",
    "encoded = Dense(units=128, activation='relu')(input_img)\n",
    "encoded = Dense(units=64, activation='relu')(encoded) \n",
    "encoded = Dense(units=encoding_dim, activation='relu')(encoded)\n",
    "decoded = Dense(units=64, activation='relu')(encoded)\n",
    "\n",
    "decoded = Dense(units=128, activation='relu')(decoded)\n",
    "#reconstruct the image using sigmoid activation function\n",
    "decoded = Dense(units=1024, activation='sigmoid')(decoded)"
   ]
  },
  {
   "cell_type": "code",
   "execution_count": 10,
   "metadata": {
    "id": "lCpHA3q1gj8W"
   },
   "outputs": [],
   "source": [
    "autoencoder=Model(input_img, decoded)"
   ]
  },
  {
   "cell_type": "markdown",
   "metadata": {
    "id": "SnhuM4vygj8W"
   },
   "source": [
    "View the structure of deep autoencoder model"
   ]
  },
  {
   "cell_type": "code",
   "execution_count": 11,
   "metadata": {
    "colab": {
     "base_uri": "https://localhost:8080/"
    },
    "id": "_PMzgD7Bgj8W",
    "outputId": "b0b37fd6-cee2-4be2-e407-467b83dde59e"
   },
   "outputs": [
    {
     "name": "stdout",
     "output_type": "stream",
     "text": [
      "Model: \"model\"\n",
      "_________________________________________________________________\n",
      " Layer (type)                Output Shape              Param #   \n",
      "=================================================================\n",
      " input_1 (InputLayer)        [(None, 1024)]            0         \n",
      "                                                                 \n",
      " dense (Dense)               (None, 128)               131200    \n",
      "                                                                 \n",
      " dense_1 (Dense)             (None, 64)                8256      \n",
      "                                                                 \n",
      " dense_2 (Dense)             (None, 32)                2080      \n",
      "                                                                 \n",
      " dense_3 (Dense)             (None, 64)                2112      \n",
      "                                                                 \n",
      " dense_4 (Dense)             (None, 128)               8320      \n",
      "                                                                 \n",
      " dense_5 (Dense)             (None, 1024)              132096    \n",
      "                                                                 \n",
      "=================================================================\n",
      "Total params: 284,064\n",
      "Trainable params: 284,064\n",
      "Non-trainable params: 0\n",
      "_________________________________________________________________\n"
     ]
    }
   ],
   "source": [
    "autoencoder.summary()"
   ]
  },
  {
   "cell_type": "code",
   "execution_count": 12,
   "metadata": {
    "id": "VS7di4Jpgj8W"
   },
   "outputs": [],
   "source": [
    "encoder = Model(input_img, encoded)"
   ]
  },
  {
   "cell_type": "markdown",
   "metadata": {
    "id": "Gft4e2WJgj8W"
   },
   "source": [
    "Structure of encoder model"
   ]
  },
  {
   "cell_type": "code",
   "execution_count": 13,
   "metadata": {
    "colab": {
     "base_uri": "https://localhost:8080/"
    },
    "id": "UrhAWRubgj8X",
    "outputId": "67d2a97f-71a8-4094-df47-e51615d90a7f"
   },
   "outputs": [
    {
     "name": "stdout",
     "output_type": "stream",
     "text": [
      "Model: \"model_1\"\n",
      "_________________________________________________________________\n",
      " Layer (type)                Output Shape              Param #   \n",
      "=================================================================\n",
      " input_1 (InputLayer)        [(None, 1024)]            0         \n",
      "                                                                 \n",
      " dense (Dense)               (None, 128)               131200    \n",
      "                                                                 \n",
      " dense_1 (Dense)             (None, 64)                8256      \n",
      "                                                                 \n",
      " dense_2 (Dense)             (None, 32)                2080      \n",
      "                                                                 \n",
      "=================================================================\n",
      "Total params: 141,536\n",
      "Trainable params: 141,536\n",
      "Non-trainable params: 0\n",
      "_________________________________________________________________\n"
     ]
    }
   ],
   "source": [
    "encoder.summary()"
   ]
  },
  {
   "cell_type": "markdown",
   "metadata": {
    "id": "KjQRWhzBgj8X"
   },
   "source": []
  },
  {
   "cell_type": "code",
   "execution_count": 14,
   "metadata": {
    "id": "iRHca-_xgj8X"
   },
   "outputs": [],
   "source": [
    "# This is our encoded (32-dimensional) input\n",
    "encoded_input = Input(shape=(32,))\n",
    "# retrieve the last layer of the autoencoder model \n",
    "num_decoder_layers = 3\n",
    "decoder_layer = encoded_input\n",
    "for i in range(-num_decoder_layers, 0):\n",
    "    decoder_layer = autoencoder.layers[i](decoder_layer)\n",
    "\n",
    "# create the decoder model\n",
    "decoder = Model(encoded_input, decoder_layer)"
   ]
  },
  {
   "cell_type": "markdown",
   "metadata": {
    "id": "xvgp0aMBgj8X"
   },
   "source": [
    "Structure of decoder model"
   ]
  },
  {
   "cell_type": "code",
   "execution_count": 15,
   "metadata": {
    "colab": {
     "base_uri": "https://localhost:8080/"
    },
    "id": "-u0jfipMgj8X",
    "outputId": "3ca75535-a8fa-400e-f081-7b614072db96"
   },
   "outputs": [
    {
     "name": "stdout",
     "output_type": "stream",
     "text": [
      "Model: \"model_2\"\n",
      "_________________________________________________________________\n",
      " Layer (type)                Output Shape              Param #   \n",
      "=================================================================\n",
      " input_2 (InputLayer)        [(None, 32)]              0         \n",
      "                                                                 \n",
      " dense_3 (Dense)             (None, 64)                2112      \n",
      "                                                                 \n",
      " dense_4 (Dense)             (None, 128)               8320      \n",
      "                                                                 \n",
      " dense_5 (Dense)             (None, 1024)              132096    \n",
      "                                                                 \n",
      "=================================================================\n",
      "Total params: 142,528\n",
      "Trainable params: 142,528\n",
      "Non-trainable params: 0\n",
      "_________________________________________________________________\n"
     ]
    }
   ],
   "source": [
    "decoder.summary()"
   ]
  },
  {
   "cell_type": "markdown",
   "metadata": {
    "id": "DoHWsG0qgj8Y"
   },
   "source": [
    "Compile the autoencoder model with adam optimizer uisng binary_crossentropy as the loss function. (pixels 0,1)\n",
    "We use accuracy as the metrics used for the performance of the model."
   ]
  },
  {
   "cell_type": "code",
   "execution_count": 16,
   "metadata": {
    "id": "zkIjei5Cgj8Y"
   },
   "outputs": [],
   "source": [
    "autoencoder.compile(optimizer='adam', loss='binary_crossentropy', metrics=['accuracy'])"
   ]
  },
  {
   "cell_type": "markdown",
   "metadata": {
    "id": "keM24kSggj8Y"
   },
   "source": [
    "Train the autoencoder using the training data with 50 epochs and batch size of 256"
   ]
  },
  {
   "cell_type": "code",
   "execution_count": 17,
   "metadata": {
    "colab": {
     "base_uri": "https://localhost:8080/"
    },
    "id": "8E2AVp10gj8Y",
    "outputId": "4d8ff413-cb8d-4423-c13f-a7486f41d87c"
   },
   "outputs": [
    {
     "name": "stdout",
     "output_type": "stream",
     "text": [
      "Epoch 1/50\n",
      "951/951 [==============================] - 32s 32ms/step - loss: 0.2600 - accuracy: 5.8738e-04 - val_loss: 0.2370 - val_accuracy: 1.6482e-05\n",
      "Epoch 2/50\n",
      "951/951 [==============================] - 29s 30ms/step - loss: 0.2320 - accuracy: 2.3824e-04 - val_loss: 0.2279 - val_accuracy: 6.4280e-04\n",
      "Epoch 3/50\n",
      "951/951 [==============================] - 22s 23ms/step - loss: 0.2258 - accuracy: 0.0055 - val_loss: 0.2237 - val_accuracy: 0.0133\n",
      "Epoch 4/50\n",
      "951/951 [==============================] - 22s 23ms/step - loss: 0.2221 - accuracy: 0.0073 - val_loss: 0.2204 - val_accuracy: 0.0150\n",
      "Epoch 5/50\n",
      "951/951 [==============================] - 21s 22ms/step - loss: 0.2194 - accuracy: 0.0110 - val_loss: 0.2183 - val_accuracy: 0.0194\n",
      "Epoch 6/50\n",
      "951/951 [==============================] - 22s 23ms/step - loss: 0.2176 - accuracy: 0.0192 - val_loss: 0.2165 - val_accuracy: 0.0202\n",
      "Epoch 7/50\n",
      "951/951 [==============================] - 26s 27ms/step - loss: 0.2161 - accuracy: 0.0199 - val_loss: 0.2153 - val_accuracy: 0.0208\n",
      "Epoch 8/50\n",
      "951/951 [==============================] - 24s 25ms/step - loss: 0.2151 - accuracy: 0.0186 - val_loss: 0.2145 - val_accuracy: 0.0081\n",
      "Epoch 9/50\n",
      "951/951 [==============================] - 28s 30ms/step - loss: 0.2142 - accuracy: 0.0162 - val_loss: 0.2137 - val_accuracy: 0.0161\n",
      "Epoch 10/50\n",
      "951/951 [==============================] - 24s 25ms/step - loss: 0.2135 - accuracy: 0.0183 - val_loss: 0.2129 - val_accuracy: 0.0278\n",
      "Epoch 11/50\n",
      "951/951 [==============================] - 17s 18ms/step - loss: 0.2128 - accuracy: 0.0175 - val_loss: 0.2125 - val_accuracy: 0.0218\n",
      "Epoch 12/50\n",
      "951/951 [==============================] - 17s 17ms/step - loss: 0.2123 - accuracy: 0.0136 - val_loss: 0.2118 - val_accuracy: 0.0098\n",
      "Epoch 13/50\n",
      "951/951 [==============================] - 17s 18ms/step - loss: 0.2118 - accuracy: 0.0101 - val_loss: 0.2113 - val_accuracy: 0.0205\n",
      "Epoch 14/50\n",
      "951/951 [==============================] - 17s 18ms/step - loss: 0.2113 - accuracy: 0.0116 - val_loss: 0.2109 - val_accuracy: 0.0121\n",
      "Epoch 15/50\n",
      "951/951 [==============================] - 17s 18ms/step - loss: 0.2110 - accuracy: 0.0102 - val_loss: 0.2107 - val_accuracy: 0.0155\n",
      "Epoch 16/50\n",
      "951/951 [==============================] - 20s 21ms/step - loss: 0.2107 - accuracy: 0.0120 - val_loss: 0.2104 - val_accuracy: 0.0141\n",
      "Epoch 17/50\n",
      "951/951 [==============================] - 16s 17ms/step - loss: 0.2105 - accuracy: 0.0120 - val_loss: 0.2103 - val_accuracy: 0.0144\n",
      "Epoch 18/50\n",
      "951/951 [==============================] - 16s 17ms/step - loss: 0.2102 - accuracy: 0.0131 - val_loss: 0.2103 - val_accuracy: 0.0192\n",
      "Epoch 19/50\n",
      "951/951 [==============================] - 16s 17ms/step - loss: 0.2100 - accuracy: 0.0140 - val_loss: 0.2097 - val_accuracy: 0.0137\n",
      "Epoch 20/50\n",
      "951/951 [==============================] - 16s 17ms/step - loss: 0.2099 - accuracy: 0.0125 - val_loss: 0.2096 - val_accuracy: 0.0146\n",
      "Epoch 21/50\n",
      "951/951 [==============================] - 17s 18ms/step - loss: 0.2097 - accuracy: 0.0147 - val_loss: 0.2095 - val_accuracy: 0.0236\n",
      "Epoch 22/50\n",
      "951/951 [==============================] - 21s 22ms/step - loss: 0.2096 - accuracy: 0.0140 - val_loss: 0.2094 - val_accuracy: 0.0094\n",
      "Epoch 23/50\n",
      "951/951 [==============================] - 15s 16ms/step - loss: 0.2095 - accuracy: 0.0139 - val_loss: 0.2097 - val_accuracy: 0.0118\n",
      "Epoch 24/50\n",
      "951/951 [==============================] - 16s 17ms/step - loss: 0.2093 - accuracy: 0.0153 - val_loss: 0.2090 - val_accuracy: 0.0250\n",
      "Epoch 25/50\n",
      "951/951 [==============================] - 16s 16ms/step - loss: 0.2092 - accuracy: 0.0161 - val_loss: 0.2088 - val_accuracy: 0.0145\n",
      "Epoch 26/50\n",
      "951/951 [==============================] - 18s 18ms/step - loss: 0.2091 - accuracy: 0.0166 - val_loss: 0.2090 - val_accuracy: 0.0117\n",
      "Epoch 27/50\n",
      "951/951 [==============================] - 19s 20ms/step - loss: 0.2090 - accuracy: 0.0165 - val_loss: 0.2092 - val_accuracy: 0.0108\n",
      "Epoch 28/50\n",
      "951/951 [==============================] - 16s 17ms/step - loss: 0.2089 - accuracy: 0.0154 - val_loss: 0.2087 - val_accuracy: 0.0111\n",
      "Epoch 29/50\n",
      "951/951 [==============================] - 38s 40ms/step - loss: 0.2088 - accuracy: 0.0156 - val_loss: 0.2087 - val_accuracy: 0.0115\n",
      "Epoch 30/50\n",
      "951/951 [==============================] - 24s 25ms/step - loss: 0.2088 - accuracy: 0.0132 - val_loss: 0.2086 - val_accuracy: 0.0184\n",
      "Epoch 31/50\n",
      "951/951 [==============================] - 21s 22ms/step - loss: 0.2087 - accuracy: 0.0158 - val_loss: 0.2085 - val_accuracy: 0.0108\n",
      "Epoch 32/50\n",
      "951/951 [==============================] - 25s 26ms/step - loss: 0.2086 - accuracy: 0.0148 - val_loss: 0.2085 - val_accuracy: 0.0139\n",
      "Epoch 33/50\n",
      "951/951 [==============================] - 24s 25ms/step - loss: 0.2086 - accuracy: 0.0129 - val_loss: 0.2085 - val_accuracy: 0.0087\n",
      "Epoch 34/50\n",
      "951/951 [==============================] - 23s 24ms/step - loss: 0.2085 - accuracy: 0.0130 - val_loss: 0.2083 - val_accuracy: 0.0106\n",
      "Epoch 35/50\n",
      "951/951 [==============================] - 20s 21ms/step - loss: 0.2084 - accuracy: 0.0124 - val_loss: 0.2083 - val_accuracy: 0.0122\n",
      "Epoch 36/50\n",
      "951/951 [==============================] - 20s 22ms/step - loss: 0.2084 - accuracy: 0.0111 - val_loss: 0.2084 - val_accuracy: 0.0119\n",
      "Epoch 37/50\n",
      "951/951 [==============================] - 22s 23ms/step - loss: 0.2083 - accuracy: 0.0089 - val_loss: 0.2081 - val_accuracy: 0.0102\n",
      "Epoch 38/50\n",
      "951/951 [==============================] - 25s 26ms/step - loss: 0.2083 - accuracy: 0.0094 - val_loss: 0.2081 - val_accuracy: 0.0057\n",
      "Epoch 39/50\n",
      "951/951 [==============================] - 28s 29ms/step - loss: 0.2082 - accuracy: 0.0082 - val_loss: 0.2081 - val_accuracy: 0.0067\n",
      "Epoch 40/50\n",
      "951/951 [==============================] - 23s 24ms/step - loss: 0.2081 - accuracy: 0.0073 - val_loss: 0.2082 - val_accuracy: 0.0077\n",
      "Epoch 41/50\n",
      "951/951 [==============================] - 25s 26ms/step - loss: 0.2081 - accuracy: 0.0071 - val_loss: 0.2081 - val_accuracy: 0.0054\n",
      "Epoch 42/50\n",
      "951/951 [==============================] - 30s 31ms/step - loss: 0.2081 - accuracy: 0.0057 - val_loss: 0.2079 - val_accuracy: 0.0067\n",
      "Epoch 43/50\n",
      "951/951 [==============================] - 33s 35ms/step - loss: 0.2080 - accuracy: 0.0063 - val_loss: 0.2078 - val_accuracy: 0.0063\n",
      "Epoch 44/50\n",
      "951/951 [==============================] - 24s 25ms/step - loss: 0.2079 - accuracy: 0.0061 - val_loss: 0.2078 - val_accuracy: 0.0036\n",
      "Epoch 45/50\n",
      "951/951 [==============================] - 24s 26ms/step - loss: 0.2078 - accuracy: 0.0050 - val_loss: 0.2078 - val_accuracy: 0.0096\n",
      "Epoch 46/50\n",
      "951/951 [==============================] - 23s 24ms/step - loss: 0.2077 - accuracy: 0.0053 - val_loss: 0.2075 - val_accuracy: 0.0045\n",
      "Epoch 47/50\n",
      "951/951 [==============================] - 27s 28ms/step - loss: 0.2077 - accuracy: 0.0049 - val_loss: 0.2077 - val_accuracy: 0.0040\n",
      "Epoch 48/50\n",
      "951/951 [==============================] - 23s 24ms/step - loss: 0.2076 - accuracy: 0.0049 - val_loss: 0.2073 - val_accuracy: 0.0036\n",
      "Epoch 49/50\n",
      "951/951 [==============================] - 24s 25ms/step - loss: 0.2075 - accuracy: 0.0044 - val_loss: 0.2074 - val_accuracy: 0.0053\n",
      "Epoch 50/50\n",
      "951/951 [==============================] - 23s 24ms/step - loss: 0.2074 - accuracy: 0.0044 - val_loss: 0.2072 - val_accuracy: 0.0042\n"
     ]
    },
    {
     "data": {
      "text/plain": [
       "<keras.callbacks.History at 0x7fd97c39f760>"
      ]
     },
     "execution_count": 17,
     "metadata": {},
     "output_type": "execute_result"
    }
   ],
   "source": [
    "autoencoder.fit(X_train, X_train,\n",
    "                epochs=50,\n",
    "                batch_size=256,\n",
    "                shuffle=True,\n",
    "                validation_data=(X_test, X_test))"
   ]
  },
  {
   "cell_type": "markdown",
   "metadata": {
    "id": "9L8Er8Orgj8Z"
   },
   "source": [
    "Predicting the test set using autoencoder to obtain the reconstructed image. Predict the test using the encoder to view the encoded images."
   ]
  },
  {
   "cell_type": "code",
   "execution_count": 18,
   "metadata": {
    "id": "rot9omOHgj8Z"
   },
   "outputs": [],
   "source": [
    "encoded_imgs = encoder.predict(X_test)\n",
    "predicted = autoencoder.predict(X_test)"
   ]
  },
  {
   "cell_type": "markdown",
   "metadata": {
    "id": "-ghB8d-Cgj8Z"
   },
   "source": [
    "To view the original input, encoded images and the reconstructed images, we plot the images using matplotlib"
   ]
  },
  {
   "cell_type": "code",
   "execution_count": 40,
   "metadata": {
    "colab": {
     "base_uri": "https://localhost:8080/",
     "height": 235
    },
    "id": "Ta9-CCbHgj8Z",
    "outputId": "9e360e8d-e3da-4540-cfbe-02c3a5e57dce"
   },
   "outputs": [
    {
     "data": {
      "image/png": "[encoded data removed]",
      "text/plain": [
       "<Figure size 2880x288 with 30 Axes>"
      ]
     },
     "metadata": {
      "needs_background": "light"
     },
     "output_type": "display_data"
    }
   ],
   "source": [
    "plt.figure(figsize=(40, 4))\n",
    "for i in range(10):\n",
    "\n",
    "    # display original images\n",
    "    ax = plt.subplot(3, 20, i + 1)\n",
    "    plt.imshow(X_test[i].reshape(32, 32))\n",
    "    plt.gray()\n",
    "    ax.get_xaxis().set_visible(False)\n",
    "    ax.get_yaxis().set_visible(False)\n",
    "    \n",
    "    # display encoded images\n",
    "    ax = plt.subplot(3, 20, i + 1 + 20)\n",
    "    plt.imshow(encoded_imgs[i].reshape(8,4))\n",
    "    plt.gray()\n",
    "    ax.get_xaxis().set_visible(False)\n",
    "    ax.get_yaxis().set_visible(False)\n",
    "\n",
    "    # display reconstructed images\n",
    "    ax = plt.subplot(3, 20, 2*20 +i+ 1)\n",
    "    plt.imshow(predicted[i].reshape(32, 32))\n",
    "    plt.gray()\n",
    "    ax.get_xaxis().set_visible(False)\n",
    "    ax.get_yaxis().set_visible(False)\n",
    "  \n",
    "    \n",
    "plt.show()"
   ]
  }
 ],
 "metadata": {
  "colab": {
   "collapsed_sections": [
    "dpfyVJR-3q8t",
    "bOd_qSXo3t60",
    "TetynXob-Q_6",
    "sBrh2g3IM0CQ",
    "0DxoYqFWVn_a",
    "i6jrgyIrVrql",
    "dUbAGmB3Vtj3"
   ],
   "name": "Deep Learning (Sem 4).ipynb",
   "provenance": []
  },
  "kernelspec": {
   "display_name": "Python 3",
   "language": "python",
   "name": "python3"
  },
  "language_info": {
   "codemirror_mode": {
    "name": "ipython",
    "version": 3
   },
   "file_extension": ".py",
   "mimetype": "text/x-python",
   "name": "python",
   "nbconvert_exporter": "python",
   "pygments_lexer": "ipython3",
   "version": "3.8.8"
  }
 },
 "nbformat": 4,
 "nbformat_minor": 1
}
